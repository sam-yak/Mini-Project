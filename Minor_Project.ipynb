{
  "nbformat": 4,
  "nbformat_minor": 0,
  "metadata": {
    "colab": {
      "name": "Minor Project.ipynb",
      "provenance": [],
      "authorship_tag": "ABX9TyNcUCtUkdNnmv/B9q0a8UcB",
      "include_colab_link": true
    },
    "kernelspec": {
      "name": "python3",
      "display_name": "Python 3"
    },
    "language_info": {
      "name": "python"
    }
  },
  "cells": [
    {
      "cell_type": "markdown",
      "metadata": {
        "id": "view-in-github",
        "colab_type": "text"
      },
      "source": [
        "<a href=\"https://colab.research.google.com/github/sam-yak/Mini-Project/blob/main/Minor_Project.ipynb\" target=\"_parent\"><img src=\"https://colab.research.google.com/assets/colab-badge.svg\" alt=\"Open In Colab\"/></a>"
      ]
    },
    {
      "cell_type": "code",
      "metadata": {
        "id": "uDfImrfyeINh"
      },
      "source": [
        "# Gatherin Data"
      ],
      "execution_count": null,
      "outputs": []
    },
    {
      "cell_type": "code",
      "metadata": {
        "colab": {
          "base_uri": "https://localhost:8080/"
        },
        "id": "7ijtFpM2de91",
        "outputId": "ac89408f-4b1a-4375-d7d8-82a9df829475"
      },
      "source": [
        "!pip install ipython-autotime\n",
        "%load_ext autotime"
      ],
      "execution_count": 1,
      "outputs": [
        {
          "output_type": "stream",
          "text": [
            "Collecting ipython-autotime\n",
            "  Downloading https://files.pythonhosted.org/packages/b4/c9/b413a24f759641bc27ef98c144b590023c8038dfb8a3f09e713e9dff12c1/ipython_autotime-0.3.1-py2.py3-none-any.whl\n",
            "Requirement already satisfied: ipython in /usr/local/lib/python3.7/dist-packages (from ipython-autotime) (5.5.0)\n",
            "Requirement already satisfied: simplegeneric>0.8 in /usr/local/lib/python3.7/dist-packages (from ipython->ipython-autotime) (0.8.1)\n",
            "Requirement already satisfied: pygments in /usr/local/lib/python3.7/dist-packages (from ipython->ipython-autotime) (2.6.1)\n",
            "Requirement already satisfied: decorator in /usr/local/lib/python3.7/dist-packages (from ipython->ipython-autotime) (4.4.2)\n",
            "Requirement already satisfied: prompt-toolkit<2.0.0,>=1.0.4 in /usr/local/lib/python3.7/dist-packages (from ipython->ipython-autotime) (1.0.18)\n",
            "Requirement already satisfied: setuptools>=18.5 in /usr/local/lib/python3.7/dist-packages (from ipython->ipython-autotime) (54.2.0)\n",
            "Requirement already satisfied: traitlets>=4.2 in /usr/local/lib/python3.7/dist-packages (from ipython->ipython-autotime) (5.0.5)\n",
            "Requirement already satisfied: pickleshare in /usr/local/lib/python3.7/dist-packages (from ipython->ipython-autotime) (0.7.5)\n",
            "Requirement already satisfied: pexpect; sys_platform != \"win32\" in /usr/local/lib/python3.7/dist-packages (from ipython->ipython-autotime) (4.8.0)\n",
            "Requirement already satisfied: six>=1.9.0 in /usr/local/lib/python3.7/dist-packages (from prompt-toolkit<2.0.0,>=1.0.4->ipython->ipython-autotime) (1.15.0)\n",
            "Requirement already satisfied: wcwidth in /usr/local/lib/python3.7/dist-packages (from prompt-toolkit<2.0.0,>=1.0.4->ipython->ipython-autotime) (0.2.5)\n",
            "Requirement already satisfied: ipython-genutils in /usr/local/lib/python3.7/dist-packages (from traitlets>=4.2->ipython->ipython-autotime) (0.2.0)\n",
            "Requirement already satisfied: ptyprocess>=0.5 in /usr/local/lib/python3.7/dist-packages (from pexpect; sys_platform != \"win32\"->ipython->ipython-autotime) (0.7.0)\n",
            "Installing collected packages: ipython-autotime\n",
            "Successfully installed ipython-autotime-0.3.1\n",
            "time: 3.18 ms (started: 2021-04-10 16:55:45 +00:00)\n"
          ],
          "name": "stdout"
        }
      ]
    },
    {
      "cell_type": "code",
      "metadata": {
        "colab": {
          "base_uri": "https://localhost:8080/"
        },
        "id": "89Tkf6z5Xpn0",
        "outputId": "591f5762-2f85-4a2e-c0a9-e8d5f9713e54"
      },
      "source": [
        " !pip install bing-image-downloader"
      ],
      "execution_count": 2,
      "outputs": [
        {
          "output_type": "stream",
          "text": [
            "Collecting bing-image-downloader\n",
            "  Downloading https://files.pythonhosted.org/packages/0d/bf/537a61030b84ae4cd5022d5c7b014fd9bc3ce7c02358919153a6658a61d3/bing_image_downloader-1.0.4-py3-none-any.whl\n",
            "Installing collected packages: bing-image-downloader\n",
            "Successfully installed bing-image-downloader-1.0.4\n",
            "time: 3.24 s (started: 2021-04-10 16:55:50 +00:00)\n"
          ],
          "name": "stdout"
        }
      ]
    },
    {
      "cell_type": "code",
      "metadata": {
        "id": "6Y3m0vwkaN0M",
        "colab": {
          "base_uri": "https://localhost:8080/"
        },
        "outputId": "bec614c7-7850-442b-9a78-c36f9e7bdb91"
      },
      "source": [
        "!mkdir images"
      ],
      "execution_count": 3,
      "outputs": [
        {
          "output_type": "stream",
          "text": [
            "time: 121 ms (started: 2021-04-10 16:55:59 +00:00)\n"
          ],
          "name": "stdout"
        }
      ]
    },
    {
      "cell_type": "code",
      "metadata": {
        "colab": {
          "base_uri": "https://localhost:8080/"
        },
        "id": "Bdf4BNaWahs5",
        "outputId": "3deaad27-fed2-4cb2-b976-60cd7708a9ac"
      },
      "source": [
        "from bing_image_downloader import downloader \n",
        "downloader.download(\"pretty sunflower\",limit=30,output_dir='images', adult_filter_off= True)"
      ],
      "execution_count": 4,
      "outputs": [
        {
          "output_type": "stream",
          "text": [
            "\n",
            "\n",
            "[!!]Indexing page: 1\n",
            "\n",
            "[%] Indexed 12 Images on Page 1.\n",
            "\n",
            "===============================================\n",
            "\n",
            "[%] Downloading Image #1 from http://3.bp.blogspot.com/--ShcPhgDlI8/UfOJYMdoxMI/AAAAAAAAG_0/pkfkiw2YE88/s1600/beautiful+Sun+flower+(9).jpg\n",
            "[%] File Downloaded !\n",
            "\n",
            "[%] Downloading Image #2 from https://i.pinimg.com/236x/f2/67/7f/f2677f3cd3937fc574a7b2ecc8e9123f.jpg\n",
            "[%] File Downloaded !\n",
            "\n",
            "[%] Downloading Image #3 from https://www.wallpapers13.com/wp-content/uploads/2020/09/Sunflower-farm-field-yellow-flowers-beautiful-sunset--1680x1050.jpg\n",
            "[%] File Downloaded !\n",
            "\n",
            "[%] Downloading Image #4 from https://i.pinimg.com/736x/b2/85/6a/b2856aca0f0e83b3696fbb20726a8bc7--field-of-sunflowers-sunflower-fields.jpg\n",
            "[%] File Downloaded !\n",
            "\n",
            "[%] Downloading Image #5 from http://www.wallpapers13.com/wp-content/uploads/2015/12/High-definition-wallpapers-laptop-wallpaper-desktop-gallery-pansies-beautiful-wallpaper.jpg\n",
            "[%] File Downloaded !\n",
            "\n",
            "[%] Downloading Image #6 from http://www.wallpapers13.com/wp-content/uploads/2015/12/Lovely_white_rose_nature_popular_flowers_hd-wallpaper-90715.jpg\n",
            "[%] File Downloaded !\n",
            "\n",
            "[%] Downloading Image #7 from http://tattoomagz.com/wp-content/uploads/Sunflower-watercolor-tattoo-900x900.jpg\n",
            "[%] File Downloaded !\n",
            "\n",
            "[%] Downloading Image #8 from https://www.thepoke.co.uk/wp-content/uploads/2016/02/Bad-70s-Men-Fashion-15.jpg\n",
            "[%] File Downloaded !\n",
            "\n",
            "[%] Downloading Image #9 from https://i.pinimg.com/736x/a8/0f/84/a80f847e6275945f8b86adc844a57cdc--field-of-sunflowers-beautiful-sunrise.jpg\n",
            "[%] File Downloaded !\n",
            "\n",
            "[%] Downloading Image #10 from http://emmalovesweddings.com/wp-content/uploads/2018/03/rustic-sunflower-wedding-aisle-ideas-with-tree-stumps.jpg\n",
            "[%] File Downloaded !\n",
            "\n",
            "[%] Downloading Image #11 from https://i.pinimg.com/736x/5d/8d/38/5d8d3805352583dd61329578cec66b35.jpg\n",
            "[%] File Downloaded !\n",
            "\n",
            "[%] Downloading Image #12 from http://www.honeybearlane.com/wp-content/uploads/2016/03/springwreath23.jpg\n",
            "[%] File Downloaded !\n",
            "\n",
            "\n",
            "\n",
            "[!!]Indexing page: 2\n",
            "\n",
            "[%] Indexed 12 Images on Page 2.\n",
            "\n",
            "===============================================\n",
            "\n",
            "[%] Downloading Image #13 from http://3.bp.blogspot.com/--ShcPhgDlI8/UfOJYMdoxMI/AAAAAAAAG_0/pkfkiw2YE88/s1600/beautiful+Sun+flower+(9).jpg\n",
            "[%] File Downloaded !\n",
            "\n",
            "[%] Downloading Image #14 from https://i.pinimg.com/236x/f2/67/7f/f2677f3cd3937fc574a7b2ecc8e9123f.jpg\n",
            "[%] File Downloaded !\n",
            "\n",
            "[%] Downloading Image #15 from https://www.wallpapers13.com/wp-content/uploads/2020/09/Sunflower-farm-field-yellow-flowers-beautiful-sunset--1680x1050.jpg\n",
            "[%] File Downloaded !\n",
            "\n",
            "[%] Downloading Image #16 from https://i.pinimg.com/736x/b2/85/6a/b2856aca0f0e83b3696fbb20726a8bc7--field-of-sunflowers-sunflower-fields.jpg\n",
            "[%] File Downloaded !\n",
            "\n",
            "[%] Downloading Image #17 from http://www.wallpapers13.com/wp-content/uploads/2015/12/High-definition-wallpapers-laptop-wallpaper-desktop-gallery-pansies-beautiful-wallpaper.jpg\n",
            "[%] File Downloaded !\n",
            "\n",
            "[%] Downloading Image #18 from http://www.wallpapers13.com/wp-content/uploads/2015/12/Lovely_white_rose_nature_popular_flowers_hd-wallpaper-90715.jpg\n",
            "[%] File Downloaded !\n",
            "\n",
            "[%] Downloading Image #19 from http://tattoomagz.com/wp-content/uploads/Sunflower-watercolor-tattoo-900x900.jpg\n",
            "[%] File Downloaded !\n",
            "\n",
            "[%] Downloading Image #20 from https://www.thepoke.co.uk/wp-content/uploads/2016/02/Bad-70s-Men-Fashion-15.jpg\n",
            "[%] File Downloaded !\n",
            "\n",
            "[%] Downloading Image #21 from https://i.pinimg.com/736x/a8/0f/84/a80f847e6275945f8b86adc844a57cdc--field-of-sunflowers-beautiful-sunrise.jpg\n",
            "[%] File Downloaded !\n",
            "\n",
            "[%] Downloading Image #22 from http://emmalovesweddings.com/wp-content/uploads/2018/03/rustic-sunflower-wedding-aisle-ideas-with-tree-stumps.jpg\n",
            "[%] File Downloaded !\n",
            "\n",
            "[%] Downloading Image #23 from https://i.pinimg.com/736x/5d/8d/38/5d8d3805352583dd61329578cec66b35.jpg\n",
            "[%] File Downloaded !\n",
            "\n",
            "[%] Downloading Image #24 from http://www.honeybearlane.com/wp-content/uploads/2016/03/springwreath23.jpg\n",
            "[%] File Downloaded !\n",
            "\n",
            "\n",
            "\n",
            "[!!]Indexing page: 3\n",
            "\n",
            "[%] Indexed 11 Images on Page 3.\n",
            "\n",
            "===============================================\n",
            "\n",
            "[%] Downloading Image #25 from https://www.wallpapers13.com/wp-content/uploads/2020/09/Sunflower-farm-field-yellow-flowers-beautiful-sunset--1680x1050.jpg\n",
            "[%] File Downloaded !\n",
            "\n",
            "[%] Downloading Image #26 from https://i.pinimg.com/236x/f2/67/7f/f2677f3cd3937fc574a7b2ecc8e9123f.jpg\n",
            "[%] File Downloaded !\n",
            "\n",
            "[%] Downloading Image #27 from https://www.thepoke.co.uk/wp-content/uploads/2016/02/Bad-70s-Men-Fashion-15.jpg\n",
            "[%] File Downloaded !\n",
            "\n",
            "[%] Downloading Image #28 from http://tattoomagz.com/wp-content/uploads/Sunflower-watercolor-tattoo-900x900.jpg\n",
            "[%] File Downloaded !\n",
            "\n",
            "[%] Downloading Image #29 from http://emmalovesweddings.com/wp-content/uploads/2018/03/rustic-sunflower-wedding-aisle-ideas-with-tree-stumps.jpg\n",
            "[%] File Downloaded !\n",
            "\n",
            "[%] Downloading Image #30 from https://i.pinimg.com/736x/a8/0f/84/a80f847e6275945f8b86adc844a57cdc--field-of-sunflowers-beautiful-sunrise.jpg\n",
            "[%] File Downloaded !\n",
            "\n",
            "\n",
            "\n",
            "[%] Done. Downloaded 30 images.\n",
            "\n",
            "===============================================\n",
            "\n",
            "time: 19.7 s (started: 2021-04-10 16:56:06 +00:00)\n"
          ],
          "name": "stdout"
        }
      ]
    },
    {
      "cell_type": "code",
      "metadata": {
        "colab": {
          "base_uri": "https://localhost:8080/"
        },
        "id": "ZypV9wdNcV5s",
        "outputId": "e5a8435e-eae4-409b-ac26-4d0357ad1583"
      },
      "source": [
        "from bing_image_downloader import downloader \n",
        "downloader.download(\"rugby ball\",limit=30,output_dir='images', \n",
        "                    adult_filter_off= True)"
      ],
      "execution_count": 5,
      "outputs": [
        {
          "output_type": "stream",
          "text": [
            "\n",
            "\n",
            "[!!]Indexing page: 1\n",
            "\n",
            "[%] Indexed 12 Images on Page 1.\n",
            "\n",
            "===============================================\n",
            "\n",
            "[%] Downloading Image #1 from https://i.ytimg.com/vi/XfymJYn1BXc/hqdefault.jpg\n",
            "[%] File Downloaded !\n",
            "\n",
            "[%] Downloading Image #2 from https://i.ytimg.com/vi/Iry6iBcIors/maxresdefault.jpg\n",
            "[%] File Downloaded !\n",
            "\n",
            "[%] Downloading Image #3 from https://bestinau.com.au/wp-content/uploads/2017/12/bigstock-Rugby-Ball-With-Rugby-Posts-173485916-1.jpg\n",
            "[%] File Downloaded !\n",
            "\n",
            "[%] Downloading Image #4 from https://passport.worldrugby.org/beginners_guide/images/sections/lineout-support.jpg\n",
            "[%] File Downloaded !\n",
            "\n",
            "[%] Downloading Image #5 from https://i.pinimg.com/736x/d8/2e/15/d82e15e5ec69bfe71a464945709e4493.jpg\n",
            "[%] File Downloaded !\n",
            "\n",
            "[%] Downloading Image #6 from http://www.wastehunter.com/wp-content/uploads/2014/08/diy-basketball-bag.jpg\n",
            "[%] File Downloaded !\n",
            "\n",
            "[%] Downloading Image #7 from http://www.globalblue.com/destinations/uk/london/article553492.ece/BINARY/Wembley-Stadium-05.jpg\n",
            "[%] File Downloaded !\n",
            "\n",
            "[%] Downloading Image #8 from https://www.telegraph.co.uk/content/dam/dance/2018/12/13/TELEMMGLPICT000183012323-xlarge_trans_NvBQzQNjv4Bq2PI0QWrA3giDSNwqdxggICVFCHuvRAtqPU_O0KAlf5U.jpeg\n",
            "[%] File Downloaded !\n",
            "\n",
            "[%] Downloading Image #9 from https://cdn.shopify.com/s/files/1/1171/4980/products/Tennis_Net_1.jpg?v=1467990993\n",
            "[%] File Downloaded !\n",
            "\n",
            "[%] Downloading Image #10 from https://as01.epimg.net/tikitakas/imagenes/2020/05/30/portada/1590833353_622452_1590833618_noticia_normal.jpg\n",
            "[%] File Downloaded !\n",
            "\n",
            "[%] Downloading Image #11 from https://cdn.images.dailystar.co.uk/dynamic/1/photos/791000/936x622/822791.jpg\n",
            "[%] File Downloaded !\n",
            "\n",
            "[%] Downloading Image #12 from http://1.bp.blogspot.com/-ElC2kc9UVw8/UodggMDOnfI/AAAAAAAAAdg/yLGVTztq4jc/s1600/reglas+del+beisbol+pag,7.jpg\n",
            "[%] File Downloaded !\n",
            "\n",
            "\n",
            "\n",
            "[!!]Indexing page: 2\n",
            "\n",
            "[%] Indexed 12 Images on Page 2.\n",
            "\n",
            "===============================================\n",
            "\n",
            "[%] Downloading Image #13 from https://i.ytimg.com/vi/XfymJYn1BXc/hqdefault.jpg\n",
            "[%] File Downloaded !\n",
            "\n",
            "[%] Downloading Image #14 from https://i.ytimg.com/vi/Iry6iBcIors/maxresdefault.jpg\n",
            "[%] File Downloaded !\n",
            "\n",
            "[%] Downloading Image #15 from https://bestinau.com.au/wp-content/uploads/2017/12/bigstock-Rugby-Ball-With-Rugby-Posts-173485916-1.jpg\n",
            "[%] File Downloaded !\n",
            "\n",
            "[%] Downloading Image #16 from https://passport.worldrugby.org/beginners_guide/images/sections/lineout-support.jpg\n",
            "[%] File Downloaded !\n",
            "\n",
            "[%] Downloading Image #17 from https://i.pinimg.com/736x/d8/2e/15/d82e15e5ec69bfe71a464945709e4493.jpg\n",
            "[%] File Downloaded !\n",
            "\n",
            "[%] Downloading Image #18 from http://www.wastehunter.com/wp-content/uploads/2014/08/diy-basketball-bag.jpg\n",
            "[%] File Downloaded !\n",
            "\n",
            "[%] Downloading Image #19 from http://www.globalblue.com/destinations/uk/london/article553492.ece/BINARY/Wembley-Stadium-05.jpg\n",
            "[%] File Downloaded !\n",
            "\n",
            "[%] Downloading Image #20 from https://www.telegraph.co.uk/content/dam/dance/2018/12/13/TELEMMGLPICT000183012323-xlarge_trans_NvBQzQNjv4Bq2PI0QWrA3giDSNwqdxggICVFCHuvRAtqPU_O0KAlf5U.jpeg\n",
            "[%] File Downloaded !\n",
            "\n",
            "[%] Downloading Image #21 from https://cdn.shopify.com/s/files/1/1171/4980/products/Tennis_Net_1.jpg?v=1467990993\n",
            "[%] File Downloaded !\n",
            "\n",
            "[%] Downloading Image #22 from https://as01.epimg.net/tikitakas/imagenes/2020/05/30/portada/1590833353_622452_1590833618_noticia_normal.jpg\n",
            "[%] File Downloaded !\n",
            "\n",
            "[%] Downloading Image #23 from https://cdn.images.dailystar.co.uk/dynamic/1/photos/791000/936x622/822791.jpg\n",
            "[%] File Downloaded !\n",
            "\n",
            "[%] Downloading Image #24 from http://1.bp.blogspot.com/-ElC2kc9UVw8/UodggMDOnfI/AAAAAAAAAdg/yLGVTztq4jc/s1600/reglas+del+beisbol+pag,7.jpg\n",
            "[%] File Downloaded !\n",
            "\n",
            "\n",
            "\n",
            "[!!]Indexing page: 3\n",
            "\n",
            "[%] Indexed 11 Images on Page 3.\n",
            "\n",
            "===============================================\n",
            "\n",
            "[%] Downloading Image #25 from https://i.ytimg.com/vi/Iry6iBcIors/maxresdefault.jpg\n",
            "[%] File Downloaded !\n",
            "\n",
            "[%] Downloading Image #26 from https://bestinau.com.au/wp-content/uploads/2017/12/bigstock-Rugby-Ball-With-Rugby-Posts-173485916-1.jpg\n",
            "[%] File Downloaded !\n",
            "\n",
            "[%] Downloading Image #27 from https://passport.worldrugby.org/beginners_guide/images/sections/lineout-support.jpg\n",
            "[%] File Downloaded !\n",
            "\n",
            "[%] Downloading Image #28 from https://i.pinimg.com/736x/d8/2e/15/d82e15e5ec69bfe71a464945709e4493.jpg\n",
            "[%] File Downloaded !\n",
            "\n",
            "[%] Downloading Image #29 from http://www.wastehunter.com/wp-content/uploads/2014/08/diy-basketball-bag.jpg\n",
            "[%] File Downloaded !\n",
            "\n",
            "[%] Downloading Image #30 from http://www.globalblue.com/destinations/uk/london/article553492.ece/BINARY/Wembley-Stadium-05.jpg\n",
            "[%] File Downloaded !\n",
            "\n",
            "\n",
            "\n",
            "[%] Done. Downloaded 30 images.\n",
            "\n",
            "===============================================\n",
            "\n",
            "time: 11.7 s (started: 2021-04-10 16:56:32 +00:00)\n"
          ],
          "name": "stdout"
        }
      ]
    },
    {
      "cell_type": "code",
      "metadata": {
        "colab": {
          "base_uri": "https://localhost:8080/"
        },
        "id": "dZ9QfJhddQZx",
        "outputId": "554ed903-cf58-4f06-8a05-7f84f7d926d3"
      },
      "source": [
        "from bing_image_downloader import downloader \n",
        "downloader.download(\"ice cream cone\",limit=30,output_dir='images', adult_filter_off=True)"
      ],
      "execution_count": 6,
      "outputs": [
        {
          "output_type": "stream",
          "text": [
            "\n",
            "\n",
            "[!!]Indexing page: 1\n",
            "\n",
            "[%] Indexed 12 Images on Page 1.\n",
            "\n",
            "===============================================\n",
            "\n",
            "[%] Downloading Image #1 from https://cliparting.com/wp-content/uploads/2016/08/Ice-cream-cone-ice-creamne-clip-art-web-clipart.png\n",
            "[%] File Downloaded !\n",
            "\n",
            "[%] Downloading Image #2 from https://static.mothership.sg/1/2020/10/img_chocolate_cone.jpg\n",
            "[%] File Downloaded !\n",
            "\n",
            "[%] Downloading Image #3 from http://www.diyhowto.org/wp-content/uploads/2019/05/DIYHowto-Crochet-Drawstring-Bags-Free-Patterns-06.jpg\n",
            "[%] File Downloaded !\n",
            "\n",
            "[%] Downloading Image #4 from https://i.pinimg.com/736x/66/d1/3a/66d13ae831b5f1ecfa24b189fa5a21ef--ice-cream-cone-cake-ice-cream-cakes.jpg\n",
            "[%] File Downloaded !\n",
            "\n",
            "[%] Downloading Image #5 from https://upload.wikimedia.org/wikipedia/commons/thumb/a/ad/Crystalcaveformations01.jpg/1200px-Crystalcaveformations01.jpg\n",
            "[%] File Downloaded !\n",
            "\n",
            "[%] Downloading Image #6 from http://nolisoli.ph/wp-content/uploads/2018/04/EASY-NO-CHURN-Vegan-Chocolate-Ice-Cream-5-ingredients-and-NATURALLY-sweetened-with-dates-vegan-glutenfree-healthy.jpg\n",
            "[%] File Downloaded !\n",
            "\n",
            "[%] Downloading Image #7 from http://www.anothersomething.org/wp-content/uploads-anothersomething/2014/04/58_MG_1877-new-brighton-copy.jpg\n",
            "[%] File Downloaded !\n",
            "\n",
            "[%] Downloading Image #8 from https://static.neatorama.com/images/2014-03/dog-bread.jpg\n",
            "[%] File Downloaded !\n",
            "\n",
            "[%] Downloading Image #9 from http://bloximages.chicago2.vip.townnews.com/helenair.com/content/tncms/assets/v3/editorial/3/9c/39c56008-b4ff-11e2-8d69-0019bb2963f4/518579b34f96c.preview-620.jpg\n",
            "[%] File Downloaded !\n",
            "\n",
            "[%] Downloading Image #10 from https://thedecoratedcookie.com/wp-content/uploads/2016/06/ice-cream1.jpg\n",
            "[%] File Downloaded !\n",
            "\n",
            "[%] Downloading Image #11 from https://www.booooooom.com/wp-content/uploads/2015/08/Penone2.jpg\n",
            "[%] File Downloaded !\n",
            "\n",
            "[%] Downloading Image #12 from http://heavenlycakepops.com/wp-content/uploads/2013/07/image-6sm-767x1024.jpg\n",
            "[%] File Downloaded !\n",
            "\n",
            "\n",
            "\n",
            "[!!]Indexing page: 2\n",
            "\n",
            "[%] Indexed 12 Images on Page 2.\n",
            "\n",
            "===============================================\n",
            "\n",
            "[%] Downloading Image #13 from https://i.ytimg.com/vi/KILpgRLYaWY/maxresdefault.jpg\n",
            "[%] File Downloaded !\n",
            "\n",
            "[%] Downloading Image #14 from https://c1.staticflickr.com/1/252/448920796_908556f410_b.jpg\n",
            "[Error]Invalid image, not saving https://c1.staticflickr.com/1/252/448920796_908556f410_b.jpg\n",
            "\n",
            "[!] Issue getting: https://c1.staticflickr.com/1/252/448920796_908556f410_b.jpg\n",
            "[!] Error:: No active exception to reraise\n",
            "[%] Downloading Image #14 from https://i.pinimg.com/736x/15/ae/de/15aede19f0604860d90e5331dd244bda--kid-party-favors-goody-bags.jpg\n",
            "[%] File Downloaded !\n",
            "\n",
            "[%] Downloading Image #15 from https://kimspireddiy.com/wp-content/uploads/2020/06/keto-ice-cream-cones-81.jpg\n",
            "[%] File Downloaded !\n",
            "\n",
            "[%] Downloading Image #16 from https://the-glass-co.com/wp-content/uploads/2016/10/ice-cream-presentation.gif\n",
            "[%] File Downloaded !\n",
            "\n",
            "[%] Downloading Image #17 from https://vignette.wikia.nocookie.net/thelegomovie/images/8/8a/IceCreamcone.jpeg/revision/latest?cb=20190214201455\n",
            "[%] File Downloaded !\n",
            "\n",
            "[%] Downloading Image #18 from https://www.rachaelraymag.com/.image/t_share/MTQzMjU4OTI2MjIxNjk4OTI1/microphone-cake-cones.jpg\n",
            "[%] File Downloaded !\n",
            "\n",
            "[%] Downloading Image #19 from http://www.diyhowto.org/wp-content/uploads/2019/05/DIYHowto-Crochet-Drawstring-Bags-Free-Patterns-06.jpg\n",
            "[%] File Downloaded !\n",
            "\n",
            "[%] Downloading Image #20 from https://www.seriouseats.com/images/2014/06/20140613-Chocolate-Dip-kingcone-vicky-wasik-14.jpg\n",
            "[%] File Downloaded !\n",
            "\n",
            "[%] Downloading Image #21 from https://cdn.vox-cdn.com/thumbor/bGJX-Whw8xbJKLDuH7ZUN54jMUw=/0x60:2500x1466/1600x900/cdn.vox-cdn.com/uploads/chorus_image/image/50529477/choco-taco-lead-image.0.jpg\n",
            "[%] File Downloaded !\n",
            "\n",
            "[%] Downloading Image #22 from https://c8.alamy.com/comp/AJAH4W/large-plastic-ice-cream-cone-advertising-ice-cream-parlour-AJAH4W.jpg\n",
            "[%] File Downloaded !\n",
            "\n",
            "[%] Downloading Image #23 from https://luxurylaunches.com/wp-content/uploads/2017/08/Snowflake-Luxury-Gelato-1.jpg\n",
            "[%] File Downloaded !\n",
            "\n",
            "\n",
            "\n",
            "[!!]Indexing page: 3\n",
            "\n",
            "[%] Indexed 11 Images on Page 3.\n",
            "\n",
            "===============================================\n",
            "\n",
            "[%] Downloading Image #24 from https://kimspireddiy.com/wp-content/uploads/2020/06/keto-ice-cream-cones-81.jpg\n",
            "[%] File Downloaded !\n",
            "\n",
            "[%] Downloading Image #25 from https://www.rachaelraymag.com/.image/t_share/MTQzMjU4OTI2MjIxNjk4OTI1/microphone-cake-cones.jpg\n",
            "[%] File Downloaded !\n",
            "\n",
            "[%] Downloading Image #26 from https://vignette.wikia.nocookie.net/thelegomovie/images/8/8a/IceCreamcone.jpeg/revision/latest?cb=20190214201455\n",
            "[%] File Downloaded !\n",
            "\n",
            "[%] Downloading Image #27 from https://luxurylaunches.com/wp-content/uploads/2017/08/Snowflake-Luxury-Gelato-1.jpg\n",
            "[%] File Downloaded !\n",
            "\n",
            "[%] Downloading Image #28 from https://cdn.vox-cdn.com/thumbor/bGJX-Whw8xbJKLDuH7ZUN54jMUw=/0x60:2500x1466/1600x900/cdn.vox-cdn.com/uploads/chorus_image/image/50529477/choco-taco-lead-image.0.jpg\n",
            "[%] File Downloaded !\n",
            "\n",
            "[%] Downloading Image #29 from https://www.seriouseats.com/images/2014/06/20140613-Chocolate-Dip-kingcone-vicky-wasik-14.jpg\n",
            "[%] File Downloaded !\n",
            "\n",
            "[%] Downloading Image #30 from https://the-glass-co.com/wp-content/uploads/2016/10/ice-cream-presentation.gif\n",
            "[%] File Downloaded !\n",
            "\n",
            "\n",
            "\n",
            "[%] Done. Downloaded 30 images.\n",
            "\n",
            "===============================================\n",
            "\n",
            "time: 8.73 s (started: 2021-04-10 16:56:47 +00:00)\n"
          ],
          "name": "stdout"
        }
      ]
    },
    {
      "cell_type": "code",
      "metadata": {
        "id": "gyzNyixHdxO_",
        "colab": {
          "base_uri": "https://localhost:8080/"
        },
        "outputId": "aab0cc56-43a1-44a0-946e-8b875b07feba"
      },
      "source": [
        "#Preprocessing\n",
        "# 1. Resize\n",
        "# 2. Flatten\n",
        "import os\n",
        "import matplotlib.pyplot as plt\n",
        "import numpy as np\n",
        "from skimage.io import imread\n",
        "from skimage.transform import resize\n",
        "\n",
        "target= []\n",
        "images= []\n",
        "flat_data=[]\n",
        "\n",
        "DATADIR='/content/images'\n",
        "CATEGORIES=['pretty sunflower', 'rugby ball', 'ice cream cone']\n",
        "\n",
        "for category in CATEGORIES:\n",
        "  class_num= CATEGORIES.index(category) #Label Encoding \n",
        "  path= os.path.join(DATADIR,category)  #create path to use all images\n",
        "  for img in os.listdir(path):\n",
        "    img_array = imread(os.path.join(path,img))\n",
        "    #print(img_array.shape)\n",
        "    #plt.imshow(img_array)\n",
        "    img_resized = resize(img_array,(150,150,3)) #normalizes values from 0 to 1\n",
        "    flat_data.append(img_resized.flatten())\n",
        "    target.append(class_num)\n",
        "\n",
        "flat_data= np.array(flat_data)\n",
        "target= np.array(target)\n",
        "images= np.array(images)\n",
        "     \n"
      ],
      "execution_count": 12,
      "outputs": [
        {
          "output_type": "stream",
          "text": [
            "time: 44.1 s (started: 2021-04-10 18:23:47 +00:00)\n"
          ],
          "name": "stdout"
        }
      ]
    },
    {
      "cell_type": "code",
      "metadata": {
        "colab": {
          "base_uri": "https://localhost:8080/"
        },
        "id": "ul1h0SlHB8Op",
        "outputId": "b4cdb39c-476d-4048-da65-000ff93fe434"
      },
      "source": [
        "len(flat_data[0])"
      ],
      "execution_count": 14,
      "outputs": [
        {
          "output_type": "execute_result",
          "data": {
            "text/plain": [
              "67500"
            ]
          },
          "metadata": {
            "tags": []
          },
          "execution_count": 14
        },
        {
          "output_type": "stream",
          "text": [
            "time: 5.51 ms (started: 2021-04-10 18:25:53 +00:00)\n"
          ],
          "name": "stdout"
        }
      ]
    },
    {
      "cell_type": "code",
      "metadata": {
        "colab": {
          "base_uri": "https://localhost:8080/",
          "height": 298
        },
        "id": "DOrKD7HHCJlC",
        "outputId": "95937d6f-de3c-4c61-9c9e-4edb8eb394d6"
      },
      "source": [
        "unique,count= np.unique(target,return_counts=True)\n",
        "plt.bar(CATEGORIES,count)"
      ],
      "execution_count": 17,
      "outputs": [
        {
          "output_type": "execute_result",
          "data": {
            "text/plain": [
              "<BarContainer object of 3 artists>"
            ]
          },
          "metadata": {
            "tags": []
          },
          "execution_count": 17
        },
        {
          "output_type": "display_data",
          "data": {
            "image/png": "[encoded data removed]",
            "text/plain": [
              "<Figure size 432x288 with 1 Axes>"
            ]
          },
          "metadata": {
            "tags": [],
            "needs_background": "light"
          }
        },
        {
          "output_type": "stream",
          "text": [
            "time: 180 ms (started: 2021-04-10 18:28:31 +00:00)\n"
          ],
          "name": "stdout"
        }
      ]
    },
    {
      "cell_type": "code",
      "metadata": {
        "colab": {
          "base_uri": "https://localhost:8080/"
        },
        "id": "lwDjRMp6C0Ee",
        "outputId": "ef6f7912-bc76-42d2-da5f-a5a9156f6b78"
      },
      "source": [
        "#split data into training and testing  \n",
        "from sklearn.model_selection import train_test_split\n",
        "x_train,x_test,y_train,y_test = train_test_split(flat_data,target,test_size=0.3,random_state=109)\n"
      ],
      "execution_count": 18,
      "outputs": [
        {
          "output_type": "stream",
          "text": [
            "time: 27.1 ms (started: 2021-04-10 18:37:06 +00:00)\n"
          ],
          "name": "stdout"
        }
      ]
    },
    {
      "cell_type": "code",
      "metadata": {
        "colab": {
          "base_uri": "https://localhost:8080/"
        },
        "id": "u_Py_M_8Eti5",
        "outputId": "5241cbe0-cd68-4db7-bf3b-1b5b06a19e0f"
      },
      "source": [
        "from sklearn.model_selection import GridSearchCV\n",
        "from sklearn import svm \n",
        "param_grid = [\n",
        "              {'C':[1,10,100,1000],'kernel':['linear']},\n",
        "              {'C':[1,10,100,1000],'gamma':[0.001,0.0001],'kernel':['rbf']},\n",
        "]\n",
        "\n",
        "svc = svm.SVC(probability=True)\n",
        "clf= GridSearchCV(svc,param_grid)\n",
        "clf.fit(x_train, y_train)"
      ],
      "execution_count": 28,
      "outputs": [
        {
          "output_type": "execute_result",
          "data": {
            "text/plain": [
              "GridSearchCV(cv=None, error_score=nan,\n",
              "             estimator=SVC(C=1.0, break_ties=False, cache_size=200,\n",
              "                           class_weight=None, coef0=0.0,\n",
              "                           decision_function_shape='ovr', degree=3,\n",
              "                           gamma='scale', kernel='rbf', max_iter=-1,\n",
              "                           probability=True, random_state=None, shrinking=True,\n",
              "                           tol=0.001, verbose=False),\n",
              "             iid='deprecated', n_jobs=None,\n",
              "             param_grid=[{'C': [1, 10, 100, 1000], 'kernel': ['linear']},\n",
              "                         {'C': [1, 10, 100, 1000], 'gamma': [0.001, 0.0001],\n",
              "                          'kernel': ['rbf']}],\n",
              "             pre_dispatch='2*n_jobs', refit=True, return_train_score=False,\n",
              "             scoring=None, verbose=0)"
            ]
          },
          "metadata": {
            "tags": []
          },
          "execution_count": 28
        },
        {
          "output_type": "stream",
          "text": [
            "time: 1min 44s (started: 2021-04-10 18:55:10 +00:00)\n"
          ],
          "name": "stdout"
        }
      ]
    },
    {
      "cell_type": "code",
      "metadata": {
        "colab": {
          "base_uri": "https://localhost:8080/"
        },
        "id": "-RteDQXgJl4e",
        "outputId": "bb4a8bdf-781a-4dbc-8f0a-c02a1b35d87e"
      },
      "source": [
        "y_pred=clf.predict(x_test)\n",
        "y_pred"
      ],
      "execution_count": 29,
      "outputs": [
        {
          "output_type": "execute_result",
          "data": {
            "text/plain": [
              "array([1, 0, 1, 2, 2, 1, 0, 1, 1, 0, 1, 0, 1, 1, 2, 1, 2, 1, 2, 1, 2, 2,\n",
              "       0, 2, 2, 0, 1])"
            ]
          },
          "metadata": {
            "tags": []
          },
          "execution_count": 29
        },
        {
          "output_type": "stream",
          "text": [
            "time: 147 ms (started: 2021-04-10 19:00:15 +00:00)\n"
          ],
          "name": "stdout"
        }
      ]
    },
    {
      "cell_type": "code",
      "metadata": {
        "colab": {
          "base_uri": "https://localhost:8080/"
        },
        "id": "uDBcnITPKAKE",
        "outputId": "87ef2e1f-6b9f-41b9-b0b8-00d007f653e7"
      },
      "source": [
        "y_test"
      ],
      "execution_count": 30,
      "outputs": [
        {
          "output_type": "execute_result",
          "data": {
            "text/plain": [
              "array([1, 0, 1, 2, 2, 1, 0, 1, 1, 0, 1, 0, 1, 2, 2, 1, 2, 1, 0, 1, 2, 2,\n",
              "       2, 0, 0, 0, 1])"
            ]
          },
          "metadata": {
            "tags": []
          },
          "execution_count": 30
        },
        {
          "output_type": "stream",
          "text": [
            "time: 11.9 ms (started: 2021-04-10 19:00:38 +00:00)\n"
          ],
          "name": "stdout"
        }
      ]
    },
    {
      "cell_type": "code",
      "metadata": {
        "colab": {
          "base_uri": "https://localhost:8080/"
        },
        "id": "EOBPxsQIKF9H",
        "outputId": "d8d5677a-628e-47cc-aea5-830e928c426f"
      },
      "source": [
        "from sklearn.metrics import accuracy_score,confusion_matrix"
      ],
      "execution_count": 32,
      "outputs": [
        {
          "output_type": "stream",
          "text": [
            "time: 1.1 ms (started: 2021-04-10 19:01:53 +00:00)\n"
          ],
          "name": "stdout"
        }
      ]
    },
    {
      "cell_type": "code",
      "metadata": {
        "colab": {
          "base_uri": "https://localhost:8080/"
        },
        "id": "lnZ-cbpdKX0y",
        "outputId": "0dab7c3e-f4b8-4b00-d874-da5e817d26bf"
      },
      "source": [
        "accuracy_score(y_pred,y_test)"
      ],
      "execution_count": 33,
      "outputs": [
        {
          "output_type": "execute_result",
          "data": {
            "text/plain": [
              "0.8148148148148148"
            ]
          },
          "metadata": {
            "tags": []
          },
          "execution_count": 33
        },
        {
          "output_type": "stream",
          "text": [
            "time: 5.8 ms (started: 2021-04-10 19:03:40 +00:00)\n"
          ],
          "name": "stdout"
        }
      ]
    },
    {
      "cell_type": "code",
      "metadata": {
        "colab": {
          "base_uri": "https://localhost:8080/"
        },
        "id": "ZeK-XVtuKx64",
        "outputId": "88839940-17bb-4dd8-9ebd-96cac7449ae8"
      },
      "source": [
        "confusion_matrix(y_pred,y_test)"
      ],
      "execution_count": 35,
      "outputs": [
        {
          "output_type": "execute_result",
          "data": {
            "text/plain": [
              "array([[ 5,  0,  1],\n",
              "       [ 0, 11,  1],\n",
              "       [ 3,  0,  6]])"
            ]
          },
          "metadata": {
            "tags": []
          },
          "execution_count": 35
        },
        {
          "output_type": "stream",
          "text": [
            "time: 6.5 ms (started: 2021-04-10 19:04:13 +00:00)\n"
          ],
          "name": "stdout"
        }
      ]
    },
    {
      "cell_type": "code",
      "metadata": {
        "colab": {
          "base_uri": "https://localhost:8080/"
        },
        "id": "EM2rwIlxLaAv",
        "outputId": "609c131e-b4f2-4849-f0fd-17413f83badf"
      },
      "source": [
        "# Save the model using Pickle library\n",
        "import pickle\n",
        "pickle.dump(clf,open('img_model.p', 'wb'))"
      ],
      "execution_count": 36,
      "outputs": [
        {
          "output_type": "stream",
          "text": [
            "time: 43.4 ms (started: 2021-04-10 19:07:41 +00:00)\n"
          ],
          "name": "stdout"
        }
      ]
    },
    {
      "cell_type": "code",
      "metadata": {
        "colab": {
          "base_uri": "https://localhost:8080/"
        },
        "id": "k-OcrzwcLzhI",
        "outputId": "609b2627-077a-4ae7-d7d0-a6f2330a78f3"
      },
      "source": [
        "model= pickle.load(open('img_model.p', 'rb'))"
      ],
      "execution_count": 38,
      "outputs": [
        {
          "output_type": "stream",
          "text": [
            "time: 33.8 ms (started: 2021-04-10 19:10:10 +00:00)\n"
          ],
          "name": "stdout"
        }
      ]
    },
    {
      "cell_type": "code",
      "metadata": {
        "colab": {
          "base_uri": "https://localhost:8080/",
          "height": 336
        },
        "id": "1OZMotJVMRGX",
        "outputId": "b43cdb22-715e-43b6-a843-f719d612fc89"
      },
      "source": [
        "# Testing a brand new image\n",
        "flat_data=[]\n",
        "url= input('Enter your URL')\n",
        "img= imread(url)\n",
        "img_resized= resize(img,(150,150,3))\n",
        "flat_data.append(img_resized.flatten())\n",
        "flat_data= np.array(flat_data)\n",
        "print(img.shape)\n",
        "plt.imshow(img_resized)\n",
        "y_out= model.predict(flat_data)\n",
        "y_out= CATEGORIES[y_out[0]]\n",
        "print(f'PREDICTED OUTPUT:{y_out}')"
      ],
      "execution_count": 47,
      "outputs": [
        {
          "output_type": "stream",
          "text": [
            "Enter your URLhttps://i.pinimg.com/736x/3f/f0/1d/3ff01d5b9f1f16e92197140a31c5345e.jpg\n",
            "(1136, 640, 3)\n",
            "PREDICTED OUTPUT:pretty sunflower\n"
          ],
          "name": "stdout"
        },
        {
          "output_type": "display_data",
          "data": {
            "image/png": "[encoded data removed]",
            "text/plain": [
              "<Figure size 432x288 with 1 Axes>"
            ]
          },
          "metadata": {
            "tags": [],
            "needs_background": "light"
          }
        },
        {
          "output_type": "stream",
          "text": [
            "time: 32.8 s (started: 2021-04-10 19:23:41 +00:00)\n"
          ],
          "name": "stdout"
        }
      ]
    }
  ]
}